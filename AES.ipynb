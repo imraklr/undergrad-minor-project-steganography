{
 "cells": [
  {
   "cell_type": "code",
   "execution_count": 2,
   "id": "1f57391e",
   "metadata": {},
   "outputs": [
    {
     "name": "stdout",
     "output_type": "stream",
     "text": [
      "IV: 72fe006810567e6da63c68ac9076c982\n",
      "Ciphertext: c035ad11359ae73028ab36261ced50a251a1197980839cdf42f3f8124c1dedc5\n",
      "Decrypted plaintext: Hello, AES encryption!\n"
     ]
    }
   ],
   "source": [
    "import os\n",
    "from cryptography.hazmat.primitives import padding\n",
    "from cryptography.hazmat.primitives.ciphers import Cipher, algorithms, modes\n",
    "from cryptography.hazmat.backends import default_backend\n",
    "\n",
    "def generate_random_key(key_length):\n",
    "    return os.urandom(key_length // 8)\n",
    "\n",
    "def aes_encrypt(key, plaintext, mode, iv=None):\n",
    "    if mode == 'CBC':\n",
    "        if iv is None:\n",
    "            iv = os.urandom(16)\n",
    "        encryptor = Cipher(algorithms.AES(key), modes.CBC(iv), backend=default_backend()).encryptor()\n",
    "    elif mode == 'ECB':\n",
    "        encryptor = Cipher(algorithms.AES(key), modes.ECB(), backend=default_backend()).encryptor()\n",
    "    else:\n",
    "        raise ValueError(\"Invalid mode specified\")\n",
    "    \n",
    "    padder = padding.PKCS7(algorithms.AES.block_size).padder()\n",
    "    padded_plaintext = padder.update(plaintext) + padder.finalize()\n",
    "    ciphertext = encryptor.update(padded_plaintext) + encryptor.finalize()\n",
    "    \n",
    "    return iv, ciphertext\n",
    "\n",
    "def aes_decrypt(key, ciphertext, mode, iv):\n",
    "    if mode == 'CBC':\n",
    "        decryptor = Cipher(algorithms.AES(key), modes.CBC(iv), backend=default_backend()).decryptor()\n",
    "    elif mode == 'ECB':\n",
    "        decryptor = Cipher(algorithms.AES(key), modes.ECB(), backend=default_backend()).decryptor()\n",
    "    else:\n",
    "        raise ValueError(\"Invalid mode specified\")\n",
    "    \n",
    "    padded_plaintext = decryptor.update(ciphertext) + decryptor.finalize()\n",
    "    unpadder = padding.PKCS7(algorithms.AES.block_size).unpadder()\n",
    "    plaintext = unpadder.update(padded_plaintext) + unpadder.finalize()\n",
    "    \n",
    "    return plaintext\n",
    "\n",
    "# Example usage:\n",
    "if __name__ == \"__main__\":\n",
    "    key_length = 256  # AES key length in bits\n",
    "    key = generate_random_key(key_length)\n",
    "    plaintext = b\"Hello, AES encryption!\"\n",
    "\n",
    "    iv, ciphertext = aes_encrypt(key, plaintext, mode='CBC')\n",
    "    print(\"IV:\", iv.hex())\n",
    "    print(\"Ciphertext:\", ciphertext.hex())\n",
    "\n",
    "    decrypted_plaintext = aes_decrypt(key, ciphertext, mode='CBC', iv=iv)\n",
    "    print(\"Decrypted plaintext:\", decrypted_plaintext.decode('utf-8'))\n"
   ]
  },
  {
   "cell_type": "code",
   "execution_count": null,
   "id": "7645791d",
   "metadata": {},
   "outputs": [],
   "source": []
  }
 ],
 "metadata": {
  "kernelspec": {
   "display_name": "Python 3 (ipykernel)",
   "language": "python",
   "name": "python3"
  },
  "language_info": {
   "codemirror_mode": {
    "name": "ipython",
    "version": 3
   },
   "file_extension": ".py",
   "mimetype": "text/x-python",
   "name": "python",
   "nbconvert_exporter": "python",
   "pygments_lexer": "ipython3",
   "version": "3.11.5"
  }
 },
 "nbformat": 4,
 "nbformat_minor": 5
}
