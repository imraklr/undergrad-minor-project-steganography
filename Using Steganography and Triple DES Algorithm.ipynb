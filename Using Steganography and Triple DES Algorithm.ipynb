{
 "cells": [
  {
   "cell_type": "code",
   "execution_count": 4,
   "id": "89f8503f",
   "metadata": {},
   "outputs": [
    {
     "name": "stdout",
     "output_type": "stream",
     "text": [
      "Collecting pycryptodome\n",
      "  Obtaining dependency information for pycryptodome from https://files.pythonhosted.org/packages/1f/90/d131c0eb643290230dfa4108b7c2d135122d88b714ad241d77beb4782a76/pycryptodome-3.20.0-cp35-abi3-win_amd64.whl.metadata\n",
      "  Downloading pycryptodome-3.20.0-cp35-abi3-win_amd64.whl.metadata (3.4 kB)\n",
      "Downloading pycryptodome-3.20.0-cp35-abi3-win_amd64.whl (1.8 MB)\n",
      "   ---------------------------------------- 0.0/1.8 MB ? eta -:--:--\n",
      "   ---------------------------------------- 0.0/1.8 MB ? eta -:--:--\n",
      "    --------------------------------------- 0.0/1.8 MB 435.7 kB/s eta 0:00:04\n",
      "   - -------------------------------------- 0.1/1.8 MB 762.6 kB/s eta 0:00:03\n",
      "   -- ------------------------------------- 0.1/1.8 MB 798.9 kB/s eta 0:00:03\n",
      "   --- ------------------------------------ 0.2/1.8 MB 893.0 kB/s eta 0:00:02\n",
      "   ---- ----------------------------------- 0.2/1.8 MB 819.2 kB/s eta 0:00:02\n",
      "   ------ --------------------------------- 0.3/1.8 MB 944.1 kB/s eta 0:00:02\n",
      "   ------ --------------------------------- 0.3/1.8 MB 902.6 kB/s eta 0:00:02\n",
      "   ------- -------------------------------- 0.3/1.8 MB 910.2 kB/s eta 0:00:02\n",
      "   -------- ------------------------------- 0.4/1.8 MB 865.0 kB/s eta 0:00:02\n",
      "   ---------- ----------------------------- 0.4/1.8 MB 917.0 kB/s eta 0:00:02\n",
      "   ----------- ---------------------------- 0.5/1.8 MB 904.7 kB/s eta 0:00:02\n",
      "   ----------- ---------------------------- 0.5/1.8 MB 848.9 kB/s eta 0:00:02\n",
      "   ------------- -------------------------- 0.6/1.8 MB 923.3 kB/s eta 0:00:02\n",
      "   -------------- ------------------------- 0.6/1.8 MB 944.8 kB/s eta 0:00:02\n",
      "   --------------- ------------------------ 0.7/1.8 MB 945.5 kB/s eta 0:00:02\n",
      "   ----------------- ---------------------- 0.8/1.8 MB 1.0 MB/s eta 0:00:01\n",
      "   -------------------- ------------------- 0.9/1.8 MB 1.1 MB/s eta 0:00:01\n",
      "   ---------------------- ----------------- 1.0/1.8 MB 1.1 MB/s eta 0:00:01\n",
      "   ----------------------- ---------------- 1.0/1.8 MB 1.1 MB/s eta 0:00:01\n",
      "   -------------------------- ------------- 1.2/1.8 MB 1.2 MB/s eta 0:00:01\n",
      "   ---------------------------- ----------- 1.2/1.8 MB 1.2 MB/s eta 0:00:01\n",
      "   ------------------------------ --------- 1.4/1.8 MB 1.3 MB/s eta 0:00:01\n",
      "   -------------------------------- ------- 1.4/1.8 MB 1.3 MB/s eta 0:00:01\n",
      "   --------------------------------- ------ 1.5/1.8 MB 1.3 MB/s eta 0:00:01\n",
      "   ------------------------------------ --- 1.6/1.8 MB 1.3 MB/s eta 0:00:01\n",
      "   -------------------------------------- - 1.7/1.8 MB 1.4 MB/s eta 0:00:01\n",
      "   ---------------------------------------- 1.8/1.8 MB 1.4 MB/s eta 0:00:00\n",
      "Installing collected packages: pycryptodome\n",
      "Successfully installed pycryptodome-3.20.0\n",
      "Note: you may need to restart the kernel to use updated packages.\n"
     ]
    }
   ],
   "source": [
    "pip install pycryptodome"
   ]
  },
  {
   "cell_type": "code",
   "execution_count": 59,
   "id": "7bbc4131",
   "metadata": {},
   "outputs": [],
   "source": [
    "import wave\n"
   ]
  },
  {
   "cell_type": "code",
   "execution_count": 60,
   "id": "2dd48e20",
   "metadata": {},
   "outputs": [],
   "source": [
    "from Crypto.Cipher import DES3\n",
    "from hashlib import md5"
   ]
  },
  {
   "cell_type": "code",
   "execution_count": 61,
   "id": "5b63858f",
   "metadata": {},
   "outputs": [
    {
     "name": "stdout",
     "output_type": "stream",
     "text": [
      "Enter TDES Key : ASDFG\n"
     ]
    }
   ],
   "source": [
    "key = input(\"Enter TDES Key : \")\n",
    "key_hash = md5(key.encode('ascii')).digest() "
   ]
  },
  {
   "cell_type": "code",
   "execution_count": 62,
   "id": "9adcd7d5",
   "metadata": {},
   "outputs": [],
   "source": [
    "tdes_key = DES3.adjust_key_parity(key_hash)\n",
    "cipher = DES3.new(tdes_key, DES3.MODE_EAX, nonce=b'0')\n"
   ]
  },
  {
   "cell_type": "code",
   "execution_count": 63,
   "id": "bf7c1e02",
   "metadata": {},
   "outputs": [],
   "source": [
    "def case(a):\n",
    "    if a == 1:\n",
    "        encode()\n",
    "    elif a == 2:\n",
    "        decode()\n",
    "    elif a == 3:\n",
    "        quit()\n",
    "    else:\n",
    "        print(\"\\nEnter valid Choice!\")"
   ]
  },
  {
   "cell_type": "code",
   "execution_count": 64,
   "id": "e42f6d2c",
   "metadata": {},
   "outputs": [],
   "source": [
    "def encode():\n",
    "    print(\"\\nEncoding Starts..\")\n",
    "    audio = wave.open(r\"C:\\Users\\Aman Sethia\\Downloads\\audiocheck.net_pinknoise.wav\", mode=\"rb\")\n",
    "    frame_bytes = bytearray(list(audio.readframes(audio.getnframes())))\n",
    "    string = str(input(\"Enter Text to be Incription : \"))\n",
    "    string = string + int((len(frame_bytes)-(len(string)*8*8))/8) * '#'\n",
    "    bits = list(map(int, ''.join([bin(ord(i)).lstrip('0b').rjust(8, '0') for i in string])))\n",
    "    for i, bit in enumerate(bits):\n",
    "        frame_bytes[i] = (frame_bytes[i] & 254) | bit\n",
    "    frame_modified = bytes(frame_bytes)\n",
    "    for i in range(0, 10):\n",
    "        print(frame_bytes[i])\n",
    "    newAudio = wave.open('Audio_1.wav', 'wb')\n",
    "    newAudio.setparams(audio.getparams())\n",
    "    newAudio.writeframes(frame_modified)\n",
    "    newAudio.close()\n",
    "    audio.close()\n",
    "    print(\" |----> Successfully encoded text inside Audio_1.wav using Steganography \")\n",
    "    print(\"Applying Triple DES Encryption on Audio 1 file \")\n",
    "    with open('Audio_1.wav', 'rb') as input_file:\n",
    "        file_bytes = input_file.read()\n",
    "    encrypted = cipher.encrypt(file_bytes)\n",
    "    with open('Audio_1.wav', 'wb') as encrypted_file:\n",
    "        encrypted_file.write(encrypted)\n",
    "    print(\"Audio file encrypted with DES3 Algorithm Successful \")\n"
   ]
  },
  {
   "cell_type": "code",
   "execution_count": 65,
   "id": "3f07ea34",
   "metadata": {},
   "outputs": [],
   "source": [
    "def decode():\n",
    "    print(\"Audio file decryption with DES3 Algorithm Successful \")\n",
    "    key = input(\"Enter TDES Key: \")\n",
    "    key_hash = md5(key.encode('ascii')).digest() # 16-byte key\n",
    "    tdes_key = DES3.adjust_key_parity(key_hash)\n",
    "    cipher = DES3.new(tdes_key, DES3.MODE_EAX, nonce=b'0')\n",
    "    \n",
    "    with open('Audio_1.wav', 'rb') as input_file:\n",
    "        file_bytes = input_file.read()\n",
    "    \n",
    "    decrypted = cipher.decrypt(file_bytes)\n",
    "    \n",
    "    with open('Audio_1.wav', 'wb') as dec_file:\n",
    "        dec_file.write(decrypted)\n",
    "    \n",
    "    print(\"Audio file decrypted with DES3 Algorithm\")\n",
    "    print(\"\\nDecoding Starts.. Steganography \")\n",
    "    \n",
    "    audio = wave.open(\"Audio_1.wav\", mode='rb')\n",
    "    frame_bytes = bytearray(list(audio.readframes(audio.getnframes())))\n",
    "    extracted = [frame_bytes[i] & 1 for i in range(len(frame_bytes))]\n",
    "    string = \"\".join(chr(int(\"\".join(map(str, extracted[i:i+8])), 2)) for i in range(0, len(extracted), 8))\n",
    "    decoded = string.split(\"###\")[0]\n",
    "    print(\"Successfully decoded:\", decoded)\n",
    "    audio.close()\n"
   ]
  },
  {
   "cell_type": "code",
   "execution_count": null,
   "id": "a4af8021",
   "metadata": {},
   "outputs": [
    {
     "name": "stdout",
     "output_type": "stream",
     "text": [
      "\n",
      "Select an option:\n",
      "1) Encode\n",
      "2) Decode\n",
      "3) Exit\n",
      "\n",
      "Choice: 1\n",
      "\n",
      "Encoding Starts..\n",
      "Enter Text to be Incription : MUSKAAN\n",
      "0\n",
      "1\n",
      "154\n",
      "0\n",
      "199\n",
      "1\n",
      "36\n",
      "1\n",
      "120\n",
      "1\n",
      " |----> Successfully encoded text inside Audio_1.wav using Steganography \n",
      "Applying Triple DES Encryption on Audio 1 file \n",
      "Audio file encrypted with DES3 Algorithm Successful \n",
      "\n",
      "Select an option:\n",
      "1) Encode\n",
      "2) Decode\n",
      "3) Exit\n",
      "\n",
      "Choice: 2\n",
      "Audio file decryption with DES3 Algorithm Successful \n",
      "Enter TDES Key: ASDFG\n",
      "Audio file decrypted with DES3 Algorithm\n",
      "\n",
      "Decoding Starts.. Steganography \n",
      "Successfully decoded: MUSKAAN\n",
      "\n",
      "Select an option:\n",
      "1) Encode\n",
      "2) Decode\n",
      "3) Exit\n"
     ]
    }
   ],
   "source": [
    "def main():\n",
    "    while True:\n",
    "        print(\"\\nSelect an option:\\n1) Encode\\n2) Decode\\n3) Exit\")\n",
    "        choice = input(\"\\nChoice: \")\n",
    "        if choice == '1':\n",
    "            encode()\n",
    "        elif choice == '2':\n",
    "            decode()\n",
    "        elif choice == '3':\n",
    "            print(\"Exiting program...\")\n",
    "            break\n",
    "        else:\n",
    "            print(\"Invalid choice! Please enter 1, 2, or 3.\")\n",
    "\n",
    "if __name__ == \"__main__\":\n",
    "    main()"
   ]
  },
  {
   "cell_type": "code",
   "execution_count": null,
   "id": "ca7885b3",
   "metadata": {},
   "outputs": [],
   "source": []
  },
  {
   "cell_type": "markdown",
   "id": "1d0b4e44",
   "metadata": {},
   "source": [
    "## 1\n"
   ]
  }
 ],
 "metadata": {
  "kernelspec": {
   "display_name": "Python 3 (ipykernel)",
   "language": "python",
   "name": "python3"
  },
  "language_info": {
   "codemirror_mode": {
    "name": "ipython",
    "version": 3
   },
   "file_extension": ".py",
   "mimetype": "text/x-python",
   "name": "python",
   "nbconvert_exporter": "python",
   "pygments_lexer": "ipython3",
   "version": "3.11.5"
  }
 },
 "nbformat": 4,
 "nbformat_minor": 5
}
